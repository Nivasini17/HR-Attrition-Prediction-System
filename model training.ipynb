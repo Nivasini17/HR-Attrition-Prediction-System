{
 "cells": [
  {
   "cell_type": "code",
   "execution_count": 161,
   "id": "09189d55",
   "metadata": {},
   "outputs": [],
   "source": [
    "import pandas as pd\n",
    "from sklearn.tree import DecisionTreeClassifier\n",
    "from sklearn.model_selection import train_test_split\n",
    "from sklearn.metrics import (\n",
    "    accuracy_score, precision_score, recall_score, f1_score, confusion_matrix, ConfusionMatrixDisplay\n",
    ")\n",
    "import pickle\n",
    "import matplotlib.pyplot as plt\n",
    "from sklearn.linear_model import LogisticRegression\n",
    "from sklearn.ensemble import RandomForestClassifier\n",
    "from sklearn.metrics import classification_report, confusion_matrix\n",
    "\n",
    "from sklearn.naive_bayes import GaussianNB"
   ]
  },
  {
   "cell_type": "code",
   "execution_count": 162,
   "id": "978903fb",
   "metadata": {},
   "outputs": [
    {
     "name": "stdout",
     "output_type": "stream",
     "text": [
      "   ID      Name       Department     GEO             Role  Rising_Star  \\\n",
      "0   1    BRADDY       Operations      US               VP            3   \n",
      "1   2     BORST            Sales      UK  Senior Director            4   \n",
      "2   3  BIRDWELL          Finance  France  Senior Director            1   \n",
      "3   4      BENT  Human Resources   China  Senior Director            4   \n",
      "4   5     BAZAN               IT   Korea         Director            4   \n",
      "\n",
      "   Will_Relocate  Critical  Trending Perf  Talent_Level  ...  salary  Gender  \\\n",
      "0              0         1              8             6  ...     low       M   \n",
      "1              0         1             10             8  ...     low       F   \n",
      "2              0         0              2             3  ...  medium       F   \n",
      "3              0         1              8             7  ...    high       M   \n",
      "4              0         1              8             7  ...     low       F   \n",
      "\n",
      "   Emp_Work_Status2  Emp_Identity  Emp_Role  Emp_Position  Emp_Title  \\\n",
      "0                 8             7         7             8          1   \n",
      "1                10             7         7             7          4   \n",
      "2                 2             1         1             2          2   \n",
      "3                 8             7        10             9          5   \n",
      "4                 7            10         7             8          3   \n",
      "\n",
      "   Emp_Satisfaction  Emp_Competitive_1  Emp_Collaborative_1  \n",
      "0                 6                  8                    8  \n",
      "1                 7                  7                    7  \n",
      "2                 2                  1                    2  \n",
      "3                 8                  8                   10  \n",
      "4                 7                  9                    7  \n",
      "\n",
      "[5 rows x 30 columns]\n",
      "<class 'pandas.core.frame.DataFrame'>\n",
      "RangeIndex: 14999 entries, 0 to 14998\n",
      "Data columns (total 30 columns):\n",
      " #   Column                 Non-Null Count  Dtype  \n",
      "---  ------                 --------------  -----  \n",
      " 0   ID                     14999 non-null  int64  \n",
      " 1   Name                   14997 non-null  object \n",
      " 2   Department             14999 non-null  object \n",
      " 3   GEO                    14999 non-null  object \n",
      " 4   Role                   14999 non-null  object \n",
      " 5   Rising_Star            14999 non-null  int64  \n",
      " 6   Will_Relocate          14999 non-null  int64  \n",
      " 7   Critical               14999 non-null  int64  \n",
      " 8   Trending Perf          14999 non-null  int64  \n",
      " 9   Talent_Level           14999 non-null  int64  \n",
      " 10  Percent_Remote         14999 non-null  float64\n",
      " 11  EMP_Sat_OnPrem_1       14999 non-null  int64  \n",
      " 12  EMP_Sat_Remote_1       14999 non-null  int64  \n",
      " 13  EMP_Engagement_1       14999 non-null  int64  \n",
      " 14  last_evaluation        14999 non-null  int64  \n",
      " 15  number_project         14999 non-null  int64  \n",
      " 16  average_montly_hours   14999 non-null  int64  \n",
      " 17  time_spend_company     14999 non-null  int64  \n",
      " 18  left_Company           14999 non-null  int64  \n",
      " 19  promotion_last_5years  14999 non-null  int64  \n",
      " 20  salary                 14999 non-null  object \n",
      " 21  Gender                 14999 non-null  object \n",
      " 22  Emp_Work_Status2       14999 non-null  int64  \n",
      " 23  Emp_Identity           14999 non-null  int64  \n",
      " 24  Emp_Role               14999 non-null  int64  \n",
      " 25  Emp_Position           14999 non-null  int64  \n",
      " 26  Emp_Title              14999 non-null  int64  \n",
      " 27  Emp_Satisfaction       14999 non-null  int64  \n",
      " 28  Emp_Competitive_1      14999 non-null  int64  \n",
      " 29  Emp_Collaborative_1    14999 non-null  int64  \n",
      "dtypes: float64(1), int64(23), object(6)\n",
      "memory usage: 3.4+ MB\n",
      "None\n"
     ]
    }
   ],
   "source": [
    "\n",
    "\n",
    "df= pd.read_csv('C:\\\\Users\\\\HP-INDIA\\\\OneDrive\\\\Desktop\\\\DATABASE\\\\HR.csv')\n",
    "# Display first few rows\n",
    "print(df.head())\n",
    "\n",
    "# Check for nulls and datatypes\n",
    "print(df.info())\n"
   ]
  },
  {
   "cell_type": "code",
   "execution_count": 163,
   "id": "7b5bf59b",
   "metadata": {},
   "outputs": [
    {
     "name": "stdout",
     "output_type": "stream",
     "text": [
      "Index(['ID', 'Name', 'Department', 'GEO', 'Role', 'Rising_Star',\n",
      "       'Will_Relocate', 'Critical', 'Trending Perf', 'Talent_Level',\n",
      "       'Percent_Remote', 'EMP_Sat_OnPrem_1', 'EMP_Sat_Remote_1',\n",
      "       'EMP_Engagement_1', 'last_evaluation', 'number_project',\n",
      "       'average_montly_hours', 'time_spend_company', 'left_Company',\n",
      "       'promotion_last_5years', 'salary', 'Gender', 'Emp_Work_Status2',\n",
      "       'Emp_Identity', 'Emp_Role', 'Emp_Position', 'Emp_Title',\n",
      "       'Emp_Satisfaction', 'Emp_Competitive_1', 'Emp_Collaborative_1'],\n",
      "      dtype='object')\n"
     ]
    }
   ],
   "source": [
    "print(df.columns)\n"
   ]
  },
  {
   "cell_type": "code",
   "execution_count": 164,
   "id": "af313723",
   "metadata": {},
   "outputs": [],
   "source": [
    "\n",
    "# Drop columns not useful for prediction\n",
    "df.drop(['ID', 'Name'], axis=1, inplace=True)\n"
   ]
  },
  {
   "cell_type": "code",
   "execution_count": 165,
   "id": "d3607c10",
   "metadata": {},
   "outputs": [],
   "source": [
    "df = df.dropna() "
   ]
  },
  {
   "cell_type": "code",
   "execution_count": 166,
   "id": "dfd4a458",
   "metadata": {},
   "outputs": [],
   "source": [
    "df['Department'] = df['Department'].map({'HR': 0, 'Sales': 1, 'IT': 2})\n",
    "df['salary'] = df['salary'].map({'Low': 0, 'Medium': 1, 'High': 2})\n"
   ]
  },
  {
   "cell_type": "code",
   "execution_count": 167,
   "id": "177bdefb",
   "metadata": {},
   "outputs": [],
   "source": [
    "X = df[['Department', 'salary', 'time_spend_company', 'Emp_Satisfaction', 'last_evaluation']]\n",
    "y = df['left_Company'] "
   ]
  },
  {
   "cell_type": "code",
   "execution_count": 168,
   "id": "a8af5020",
   "metadata": {},
   "outputs": [],
   "source": [
    "X_train, X_test, y_train, y_test = train_test_split(X, y, test_size=0.2, random_state=42)"
   ]
  },
  {
   "cell_type": "code",
   "execution_count": 169,
   "id": "96eb2ff3",
   "metadata": {},
   "outputs": [],
   "source": [
    "model = DecisionTreeClassifier()\n",
    "model.fit(X, y)\n",
    "y_pred = model.predict(X_test)"
   ]
  },
  {
   "cell_type": "code",
   "execution_count": 170,
   "id": "c987eb95",
   "metadata": {},
   "outputs": [
    {
     "name": "stdout",
     "output_type": "stream",
     "text": [
      "✅ Model Evaluation Metrics:\n",
      "Accuracy  : 0.80\n",
      "Precision : 0.76\n",
      "Recall    : 0.51\n",
      "F1 Score  : 0.61\n",
      "\n",
      "Confusion Matrix:\n",
      "[[1928  151]\n",
      " [ 453  468]]\n"
     ]
    }
   ],
   "source": [
    "accuracy = accuracy_score(y_test, y_pred)\n",
    "precision = precision_score(y_test, y_pred, zero_division=0)\n",
    "recall = recall_score(y_test, y_pred, zero_division=0)\n",
    "f1 = f1_score(y_test, y_pred, zero_division=0)\n",
    "cm = confusion_matrix(y_test, y_pred)\n",
    "\n",
    "# Print metrics\n",
    "print(\"✅ Model Evaluation Metrics:\")\n",
    "print(f\"Accuracy  : {accuracy:.2f}\")\n",
    "print(f\"Precision : {precision:.2f}\")\n",
    "print(f\"Recall    : {recall:.2f}\")\n",
    "print(f\"F1 Score  : {f1:.2f}\")\n",
    "print(\"\\nConfusion Matrix:\")\n",
    "print(cm)"
   ]
  },
  {
   "cell_type": "code",
   "execution_count": null,
   "id": "c2e5ff84",
   "metadata": {},
   "outputs": [
    {
     "name": "stdout",
     "output_type": "stream",
     "text": [
      "✅ Model Evaluation Metrics (SVM):\n",
      "Accuracy  : 0.96\n",
      "Precision : 0.95\n",
      "Recall    : 0.99\n",
      "F1 Score  : 0.97\n",
      "\n",
      "Confusion Matrix:\n",
      "[[39  4]\n",
      " [ 1 70]]\n"
     ]
    }
   ],
   "source": [
    "from sklearn.datasets import load_breast_cancer\n",
    "from sklearn.impute import SimpleImputer\n",
    "\n",
    "data = load_breast_cancer()\n",
    "X, y = data.data, data.target\n",
    "imputer = SimpleImputer(strategy='mean')\n",
    "X = imputer.fit_transform(X)\n",
    "X_train, X_test, y_train, y_test = train_test_split(X, y, test_size=0.2, random_state=42)\n",
    "svm_model = SVC(kernel='linear')\n",
    "svm_model.fit(X_train, y_train)\n",
    "svm_y_pred = svm_model.predict(X_test)\n",
    "\n",
    "accuracy = accuracy_score(y_test, svm_y_pred)\n",
    "precision = precision_score(y_test, svm_y_pred)\n",
    "recall = recall_score(y_test, svm_y_pred)\n",
    "f1 = f1_score(y_test, svm_y_pred)\n",
    "cm = confusion_matrix(y_test, svm_y_pred)\n",
    "\n",
    "print(\"✅ Model Evaluation Metrics (SVM):\")\n",
    "print(f\"Accuracy  : {accuracy:.2f}\")\n",
    "print(f\"Precision : {precision:.2f}\")\n",
    "print(f\"Recall    : {recall:.2f}\")\n",
    "print(f\"F1 Score  : {f1:.2f}\")\n",
    "print(\"\\nConfusion Matrix:\")\n",
    "print(cm)"
   ]
  },
  {
   "cell_type": "code",
   "execution_count": 173,
   "id": "2f892eca",
   "metadata": {},
   "outputs": [],
   "source": [
    "\n",
    "from sklearn.ensemble import RandomForestClassifier\n",
    "from sklearn.metrics import classification_report, confusion_matrix"
   ]
  },
  {
   "cell_type": "code",
   "execution_count": 174,
   "id": "84858b2d",
   "metadata": {},
   "outputs": [],
   "source": [
    "rf_model = RandomForestClassifier()\n",
    "rf_model.fit(X_train, y_train)\n",
    "\n",
    "# Predict on test data\n",
    "y_rf_pred = rf_model.predict(X_test)\n"
   ]
  },
  {
   "cell_type": "code",
   "execution_count": 175,
   "id": "2819ea88",
   "metadata": {},
   "outputs": [
    {
     "name": "stdout",
     "output_type": "stream",
     "text": [
      "✅ Model Evaluation Metrics for  Random Forest:\n",
      "Accuracy  : 0.96\n",
      "Precision : 0.96\n",
      "Recall    : 0.99\n",
      "F1 Score  : 0.97\n",
      "\n",
      "Confusion Matrix:\n",
      "[[40  3]\n",
      " [ 1 70]]\n"
     ]
    }
   ],
   "source": [
    "accuracy = accuracy_score(y_test, y_rf_pred)\n",
    "precision = precision_score(y_test, y_rf_pred, zero_division=0)\n",
    "recall = recall_score(y_test, y_rf_pred, zero_division=0)\n",
    "f1 = f1_score(y_test, y_rf_pred, zero_division=0)\n",
    "cm = confusion_matrix(y_test, y_rf_pred)\n",
    "\n",
    "# Print metrics\n",
    "print(\"✅ Model Evaluation Metrics for  Random Forest:\")\n",
    "print(f\"Accuracy  : {accuracy:.2f}\")\n",
    "print(f\"Precision : {precision:.2f}\")\n",
    "print(f\"Recall    : {recall:.2f}\")\n",
    "print(f\"F1 Score  : {f1:.2f}\")\n",
    "print(\"\\nConfusion Matrix:\")\n",
    "print(cm)"
   ]
  },
  {
   "cell_type": "code",
   "execution_count": 176,
   "id": "389f3e11",
   "metadata": {},
   "outputs": [],
   "source": [
    "with open('model.pkl', 'wb') as f:\n",
    "    pickle.dump(model, f)"
   ]
  }
 ],
 "metadata": {
  "kernelspec": {
   "display_name": "Python 3",
   "language": "python",
   "name": "python3"
  },
  "language_info": {
   "codemirror_mode": {
    "name": "ipython",
    "version": 3
   },
   "file_extension": ".py",
   "mimetype": "text/x-python",
   "name": "python",
   "nbconvert_exporter": "python",
   "pygments_lexer": "ipython3",
   "version": "3.11.0"
  }
 },
 "nbformat": 4,
 "nbformat_minor": 5
}
